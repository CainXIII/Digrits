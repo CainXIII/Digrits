{
 "cells": [
  {
   "cell_type": "code",
   "execution_count": 1,
   "metadata": {},
   "outputs": [],
   "source": [
    "def load_data():\n",
    "    train_data = open(\"train.csv\").read()\n",
    "    train_data = train_data.split(\"\\n\")[1:-1]\n",
    "    train_data = [i.split(\",\") for i in train_data]\n",
    "    # print(len(train_data))\n",
    "    X_train = np.array([[int(i[j]) for j in range(1,len(i))] for i in train_data])\n",
    "    y_train = np.array([int(i[0]) for i in train_data])\n",
    "\n",
    "    # print(X_train.shape, y_train.shape)\n",
    "\n",
    "    test_data = open(\"test.csv\").read()\n",
    "    test_data = test_data.split(\"\\n\")[1:-1]\n",
    "    test_data = [i.split(\",\") for i in test_data]\n",
    "    # print(len(test_data))\n",
    "    X_test = np.array([[int(i[j]) for j in range(0,len(i))] for i in test_data])\n",
    "\n",
    "    # print(X_test.shape)\n",
    "\n",
    "    return X_train, y_train, X_test"
   ]
  },
  {
   "cell_type": "code",
   "execution_count": 2,
   "metadata": {},
   "outputs": [],
   "source": [
    "import numpy as np\n",
    "X_train, y_train, X_test = load_data()"
   ]
  },
  {
   "cell_type": "code",
   "execution_count": 4,
   "metadata": {},
   "outputs": [
    {
     "name": "stdout",
     "output_type": "stream",
     "text": [
      "(42000L, 784L) (42000L,) (28000L, 784L)\n"
     ]
    }
   ],
   "source": [
    "print X_train.shape, y_train.shape, X_test.shape"
   ]
  },
  {
   "cell_type": "code",
   "execution_count": 7,
   "metadata": {},
   "outputs": [],
   "source": [
    "W = np.random.rand(784, 10) * 0.001"
   ]
  },
  {
   "cell_type": "code",
   "execution_count": 8,
   "metadata": {},
   "outputs": [
    {
     "name": "stderr",
     "output_type": "stream",
     "text": [
      "C:\\Users\\Admin\\Anaconda2\\lib\\site-packages\\ipykernel_launcher.py:39: DeprecationWarning: unorderable dtypes; returning scalar but in the future this will be an error\n"
     ]
    },
    {
     "name": "stdout",
     "output_type": "stream",
     "text": [
      "it 0/500, loss = 9.69\n",
      "it 50/500, loss = 1.84\n",
      "it 100/500, loss = 1.32\n",
      "it 150/500, loss = 1.15\n",
      "it 200/500, loss = 0.98\n",
      "it 250/500, loss = 0.86\n",
      "it 300/500, loss = 0.89\n",
      "it 350/500, loss = 0.80\n",
      "it 400/500, loss = 0.79\n",
      "it 450/500, loss = 0.70\n",
      "bestloss:  0.5598351043687061\n"
     ]
    }
   ],
   "source": [
    "def svm_loss_vectorized(W, X, y):\n",
    "    d, C = W.shape \n",
    "    _, N = X.shape \n",
    "    loss = 0 \n",
    "    reg = .1\n",
    "    dW = np.zeros_like(W)\n",
    "    \n",
    "    Z = W.T.dot(X)     \n",
    "    \n",
    "    correct_class_score = np.choose(y, Z).reshape(N,1).T     \n",
    "    margins = np.maximum(0, 1 + Z - correct_class_score) \n",
    "    margins[y, np.arange(margins.shape[1])] = 0\n",
    "    loss = np.sum(margins, axis = (0, 1))\n",
    "    loss /= N \n",
    "    loss += 0.5 * reg * np.sum(W * W)\n",
    "    \n",
    "    F = (margins > 0).astype(int)\n",
    "    F[y, np.arange(F.shape[1])] = np.sum(-F, axis = 0)\n",
    "    dW = X.dot(F.T)/N + reg*W\n",
    "    return loss, dW\n",
    "\n",
    "def multiclass_svm_GD(X, y, Winit):         \n",
    "    batch_size = 1000\n",
    "    num_iters = 500\n",
    "    print_every = 50\n",
    "    reg = .001\n",
    "    lr=.0000001\n",
    "    bestW = Winit \n",
    "    loss_history = np.zeros((num_iters))\n",
    "    bestloss = (\"float\")\n",
    "    for it in range(num_iters):\n",
    "        # randomly pick a batch of X\n",
    "        idx = np.random.choice(X.shape[1], batch_size)\n",
    "        X_batch = X[:, idx]\n",
    "        y_batch = y[idx]\n",
    "        loss_history[it], dW = svm_loss_vectorized(Winit, X_batch, y_batch)\n",
    "        loss=loss_history[it]\n",
    "        Winit -= lr*dW \n",
    "        if loss < bestloss: # keep track of the best solution\n",
    "            bestloss = loss\n",
    "            bestW = Winit\n",
    "        if it % print_every == 0:\n",
    "            print 'it %d/%d, loss = %.2f' \\\n",
    "                %(it, num_iters, loss_history[it]) \n",
    "\n",
    "    return bestW, bestloss\n",
    "        \n",
    "W,bestloss = multiclass_svm_GD(Xtr, y_train, W)\n",
    "print 'bestloss: ',bestloss"
   ]
  },
  {
   "cell_type": "code",
   "execution_count": 9,
   "metadata": {},
   "outputs": [
    {
     "name": "stdout",
     "output_type": "stream",
     "text": [
      "[2 0 9 ... 3 9 2]\n"
     ]
    }
   ],
   "source": [
    "scores = W.T.dot(X_test.T)\n",
    "Ypre = np.argmax(scores, axis = 0)\n",
    "print Ypre"
   ]
  },
  {
   "cell_type": "code",
   "execution_count": 10,
   "metadata": {},
   "outputs": [],
   "source": [
    "import pandas as pd\n",
    "id=np.arange(1,28001)\n",
    "raw_data = {'ImageId': id, 'Label': Ypre }\n",
    "df = pd.DataFrame(raw_data, columns = ['ImageId', 'Label'])\n",
    "df.to_csv('sample.csv')\n"
   ]
  },
  {
   "cell_type": "code",
   "execution_count": null,
   "metadata": {},
   "outputs": [],
   "source": []
  }
 ],
 "metadata": {
  "kernelspec": {
   "display_name": "Python 3",
   "language": "python",
   "name": "python3"
  },
  "language_info": {
   "codemirror_mode": {
    "name": "ipython",
    "version": 3
   },
   "file_extension": ".py",
   "mimetype": "text/x-python",
   "name": "python",
   "nbconvert_exporter": "python",
   "pygments_lexer": "ipython3",
   "version": "3.6.5"
  }
 },
 "nbformat": 4,
 "nbformat_minor": 2
}
